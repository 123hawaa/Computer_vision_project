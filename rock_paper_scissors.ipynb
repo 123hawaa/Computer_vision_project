{
  "cells": [
    {
      "cell_type": "markdown",
      "metadata": {
        "id": "view-in-github",
        "colab_type": "text"
      },
      "source": [
        "<a href=\"https://colab.research.google.com/github/123hawaa/Computer_vision_project/blob/main/rock_paper_scissors.ipynb\" target=\"_parent\"><img src=\"https://colab.research.google.com/assets/colab-badge.svg\" alt=\"Open In Colab\"/></a>"
      ]
    },
    {
      "cell_type": "code",
      "execution_count": null,
      "metadata": {
        "id": "eTNquTNlYPHQ"
      },
      "outputs": [],
      "source": []
    },
    {
      "cell_type": "code",
      "execution_count": 1,
      "metadata": {
        "id": "Vvh8CJ_7f_BW"
      },
      "outputs": [],
      "source": [
        "pip install -q tensorflow tensorflow-datasets"
      ]
    },
    {
      "cell_type": "markdown",
      "metadata": {
        "id": "7o49YXvucyXn"
      },
      "source": [
        "# Import Necessary Libraries"
      ]
    },
    {
      "cell_type": "code",
      "execution_count": 2,
      "metadata": {
        "id": "Zhey_aqrZTZj"
      },
      "outputs": [],
      "source": [
        "import matplotlib.pyplot as plt\n",
        "import numpy as np\n",
        "import pandas as pd\n",
        "import tensorflow as tf\n",
        "import tensorflow_datasets as tfds\n",
        "from tensorflow import keras\n",
        "tfds.disable_progress_bar()"
      ]
    },
    {
      "cell_type": "markdown",
      "metadata": {
        "id": "o5cY_0rFc8hZ"
      },
      "source": [
        "# Find Datasets"
      ]
    },
    {
      "cell_type": "code",
      "execution_count": 3,
      "metadata": {
        "colab": {
          "base_uri": "https://localhost:8080/"
        },
        "id": "X71-ABt2dCYA",
        "outputId": "944fcef0-38dc-4d20-ca00-6a0da40b772a"
      },
      "outputs": [
        {
          "output_type": "execute_result",
          "data": {
            "text/plain": [
              "['abstract_reasoning',\n",
              " 'accentdb',\n",
              " 'aeslc',\n",
              " 'aflw2k3d',\n",
              " 'ag_news_subset',\n",
              " 'ai2_arc',\n",
              " 'ai2_arc_with_ir',\n",
              " 'amazon_us_reviews',\n",
              " 'anli',\n",
              " 'answer_equivalence',\n",
              " 'arc',\n",
              " 'asqa',\n",
              " 'asset',\n",
              " 'assin2',\n",
              " 'asu_table_top_converted_externally_to_rlds',\n",
              " 'austin_buds_dataset_converted_externally_to_rlds',\n",
              " 'austin_sailor_dataset_converted_externally_to_rlds',\n",
              " 'austin_sirius_dataset_converted_externally_to_rlds',\n",
              " 'bair_robot_pushing_small',\n",
              " 'bc_z',\n",
              " 'bccd',\n",
              " 'beans',\n",
              " 'bee_dataset',\n",
              " 'beir',\n",
              " 'berkeley_autolab_ur5',\n",
              " 'berkeley_cable_routing',\n",
              " 'berkeley_fanuc_manipulation',\n",
              " 'berkeley_gnm_cory_hall',\n",
              " 'berkeley_gnm_recon',\n",
              " 'berkeley_gnm_sac_son',\n",
              " 'berkeley_mvp_converted_externally_to_rlds',\n",
              " 'berkeley_rpt_converted_externally_to_rlds',\n",
              " 'big_patent',\n",
              " 'bigearthnet',\n",
              " 'billsum',\n",
              " 'binarized_mnist',\n",
              " 'binary_alpha_digits',\n",
              " 'ble_wind_field',\n",
              " 'blimp',\n",
              " 'booksum',\n",
              " 'bool_q',\n",
              " 'bot_adversarial_dialogue',\n",
              " 'bridge',\n",
              " 'bucc',\n",
              " 'c4',\n",
              " 'c4_wsrs',\n",
              " 'caltech101',\n",
              " 'caltech_birds2010',\n",
              " 'caltech_birds2011',\n",
              " 'cardiotox',\n",
              " 'cars196',\n",
              " 'cassava',\n",
              " 'cats_vs_dogs',\n",
              " 'celeb_a',\n",
              " 'celeb_a_hq',\n",
              " 'cfq',\n",
              " 'cherry_blossoms',\n",
              " 'chexpert',\n",
              " 'cifar10',\n",
              " 'cifar100',\n",
              " 'cifar100_n',\n",
              " 'cifar10_1',\n",
              " 'cifar10_corrupted',\n",
              " 'cifar10_h',\n",
              " 'cifar10_n',\n",
              " 'citrus_leaves',\n",
              " 'cityscapes',\n",
              " 'civil_comments',\n",
              " 'clevr',\n",
              " 'clic',\n",
              " 'clinc_oos',\n",
              " 'cmaterdb',\n",
              " 'cmu_franka_exploration_dataset_converted_externally_to_rlds',\n",
              " 'cmu_play_fusion',\n",
              " 'cmu_stretch',\n",
              " 'cnn_dailymail',\n",
              " 'coco',\n",
              " 'coco_captions',\n",
              " 'coil100',\n",
              " 'colorectal_histology',\n",
              " 'colorectal_histology_large',\n",
              " 'columbia_cairlab_pusht_real',\n",
              " 'common_voice',\n",
              " 'conll2002',\n",
              " 'conll2003',\n",
              " 'controlled_noisy_web_labels',\n",
              " 'coqa',\n",
              " 'corr2cause',\n",
              " 'cos_e',\n",
              " 'cosmos_qa',\n",
              " 'covid19',\n",
              " 'covid19sum',\n",
              " 'crema_d',\n",
              " 'criteo',\n",
              " 'cs_restaurants',\n",
              " 'curated_breast_imaging_ddsm',\n",
              " 'cycle_gan',\n",
              " 'd4rl_adroit_door',\n",
              " 'd4rl_adroit_hammer',\n",
              " 'd4rl_adroit_pen',\n",
              " 'd4rl_adroit_relocate',\n",
              " 'd4rl_antmaze',\n",
              " 'd4rl_mujoco_ant',\n",
              " 'd4rl_mujoco_halfcheetah',\n",
              " 'd4rl_mujoco_hopper',\n",
              " 'd4rl_mujoco_walker2d',\n",
              " 'dart',\n",
              " 'databricks_dolly',\n",
              " 'davis',\n",
              " 'deep1b',\n",
              " 'deep_weeds',\n",
              " 'definite_pronoun_resolution',\n",
              " 'dementiabank',\n",
              " 'diabetic_retinopathy_detection',\n",
              " 'diamonds',\n",
              " 'div2k',\n",
              " 'dlr_edan_shared_control_converted_externally_to_rlds',\n",
              " 'dlr_sara_grid_clamp_converted_externally_to_rlds',\n",
              " 'dlr_sara_pour_converted_externally_to_rlds',\n",
              " 'dmlab',\n",
              " 'doc_nli',\n",
              " 'dolphin_number_word',\n",
              " 'domainnet',\n",
              " 'downsampled_imagenet',\n",
              " 'drop',\n",
              " 'dsprites',\n",
              " 'dtd',\n",
              " 'duke_ultrasound',\n",
              " 'e2e_cleaned',\n",
              " 'efron_morris75',\n",
              " 'emnist',\n",
              " 'eraser_multi_rc',\n",
              " 'esnli',\n",
              " 'eth_agent_affordances',\n",
              " 'eurosat',\n",
              " 'fashion_mnist',\n",
              " 'flic',\n",
              " 'flores',\n",
              " 'food101',\n",
              " 'forest_fires',\n",
              " 'fractal20220817_data',\n",
              " 'fuss',\n",
              " 'gap',\n",
              " 'geirhos_conflict_stimuli',\n",
              " 'gem',\n",
              " 'genomics_ood',\n",
              " 'german_credit_numeric',\n",
              " 'gigaword',\n",
              " 'glove100_angular',\n",
              " 'glue',\n",
              " 'goemotions',\n",
              " 'gov_report',\n",
              " 'gpt3',\n",
              " 'gref',\n",
              " 'groove',\n",
              " 'grounded_scan',\n",
              " 'gsm8k',\n",
              " 'gtzan',\n",
              " 'gtzan_music_speech',\n",
              " 'hellaswag',\n",
              " 'higgs',\n",
              " 'hillstrom',\n",
              " 'horses_or_humans',\n",
              " 'howell',\n",
              " 'i_naturalist2017',\n",
              " 'i_naturalist2018',\n",
              " 'i_naturalist2021',\n",
              " 'iamlab_cmu_pickup_insert_converted_externally_to_rlds',\n",
              " 'imagenet2012',\n",
              " 'imagenet2012_corrupted',\n",
              " 'imagenet2012_fewshot',\n",
              " 'imagenet2012_multilabel',\n",
              " 'imagenet2012_real',\n",
              " 'imagenet2012_subset',\n",
              " 'imagenet_a',\n",
              " 'imagenet_lt',\n",
              " 'imagenet_pi',\n",
              " 'imagenet_r',\n",
              " 'imagenet_resized',\n",
              " 'imagenet_sketch',\n",
              " 'imagenet_v2',\n",
              " 'imagenette',\n",
              " 'imagewang',\n",
              " 'imdb_reviews',\n",
              " 'imperialcollege_sawyer_wrist_cam',\n",
              " 'irc_disentanglement',\n",
              " 'iris',\n",
              " 'istella',\n",
              " 'jaco_play',\n",
              " 'kaist_nonprehensile_converted_externally_to_rlds',\n",
              " 'kddcup99',\n",
              " 'kitti',\n",
              " 'kmnist',\n",
              " 'kuka',\n",
              " 'laion400m',\n",
              " 'lambada',\n",
              " 'lfw',\n",
              " 'librispeech',\n",
              " 'librispeech_lm',\n",
              " 'libritts',\n",
              " 'ljspeech',\n",
              " 'lm1b',\n",
              " 'locomotion',\n",
              " 'lost_and_found',\n",
              " 'lsun',\n",
              " 'lvis',\n",
              " 'malaria',\n",
              " 'maniskill_dataset_converted_externally_to_rlds',\n",
              " 'math_dataset',\n",
              " 'math_qa',\n",
              " 'mctaco',\n",
              " 'media_sum',\n",
              " 'mlqa',\n",
              " 'mnist',\n",
              " 'mnist_corrupted',\n",
              " 'movie_lens',\n",
              " 'movie_rationales',\n",
              " 'movielens',\n",
              " 'moving_mnist',\n",
              " 'mrqa',\n",
              " 'mslr_web',\n",
              " 'mt_opt',\n",
              " 'mtnt',\n",
              " 'multi_news',\n",
              " 'multi_nli',\n",
              " 'multi_nli_mismatch',\n",
              " 'natural_instructions',\n",
              " 'natural_questions',\n",
              " 'natural_questions_open',\n",
              " 'newsroom',\n",
              " 'nsynth',\n",
              " 'nyu_depth_v2',\n",
              " 'nyu_door_opening_surprising_effectiveness',\n",
              " 'nyu_franka_play_dataset_converted_externally_to_rlds',\n",
              " 'nyu_rot_dataset_converted_externally_to_rlds',\n",
              " 'ogbg_molpcba',\n",
              " 'omniglot',\n",
              " 'open_images_challenge2019_detection',\n",
              " 'open_images_v4',\n",
              " 'openbookqa',\n",
              " 'opinion_abstracts',\n",
              " 'opinosis',\n",
              " 'opus',\n",
              " 'oxford_flowers102',\n",
              " 'oxford_iiit_pet',\n",
              " 'para_crawl',\n",
              " 'pass',\n",
              " 'patch_camelyon',\n",
              " 'paws_wiki',\n",
              " 'paws_x_wiki',\n",
              " 'penguins',\n",
              " 'pet_finder',\n",
              " 'pg19',\n",
              " 'piqa',\n",
              " 'places365_small',\n",
              " 'placesfull',\n",
              " 'plant_leaves',\n",
              " 'plant_village',\n",
              " 'plantae_k',\n",
              " 'protein_net',\n",
              " 'q_re_cc',\n",
              " 'qa4mre',\n",
              " 'qasc',\n",
              " 'quac',\n",
              " 'quality',\n",
              " 'quickdraw_bitmap',\n",
              " 'race',\n",
              " 'radon',\n",
              " 'real_toxicity_prompts',\n",
              " 'reddit',\n",
              " 'reddit_disentanglement',\n",
              " 'reddit_tifu',\n",
              " 'ref_coco',\n",
              " 'resisc45',\n",
              " 'rlu_atari',\n",
              " 'rlu_atari_checkpoints',\n",
              " 'rlu_atari_checkpoints_ordered',\n",
              " 'rlu_control_suite',\n",
              " 'rlu_dmlab_explore_object_rewards_few',\n",
              " 'rlu_dmlab_explore_object_rewards_many',\n",
              " 'rlu_dmlab_rooms_select_nonmatching_object',\n",
              " 'rlu_dmlab_rooms_watermaze',\n",
              " 'rlu_dmlab_seekavoid_arena01',\n",
              " 'rlu_locomotion',\n",
              " 'rlu_rwrl',\n",
              " 'robomimic_mg',\n",
              " 'robomimic_mh',\n",
              " 'robomimic_ph',\n",
              " 'robonet',\n",
              " 'robosuite_panda_pick_place_can',\n",
              " 'roboturk',\n",
              " 'rock_paper_scissors',\n",
              " 'rock_you',\n",
              " 's3o4d',\n",
              " 'salient_span_wikipedia',\n",
              " 'samsum',\n",
              " 'savee',\n",
              " 'scan',\n",
              " 'scene_parse150',\n",
              " 'schema_guided_dialogue',\n",
              " 'sci_tail',\n",
              " 'scicite',\n",
              " 'scientific_papers',\n",
              " 'scrolls',\n",
              " 'segment_anything',\n",
              " 'sentiment140',\n",
              " 'shapes3d',\n",
              " 'sift1m',\n",
              " 'simpte',\n",
              " 'siscore',\n",
              " 'smallnorb',\n",
              " 'smartwatch_gestures',\n",
              " 'snli',\n",
              " 'so2sat',\n",
              " 'speech_commands',\n",
              " 'spoken_digit',\n",
              " 'squad',\n",
              " 'squad_question_generation',\n",
              " 'stanford_dogs',\n",
              " 'stanford_hydra_dataset_converted_externally_to_rlds',\n",
              " 'stanford_kuka_multimodal_dataset_converted_externally_to_rlds',\n",
              " 'stanford_mask_vit_converted_externally_to_rlds',\n",
              " 'stanford_online_products',\n",
              " 'stanford_robocook_converted_externally_to_rlds',\n",
              " 'star_cfq',\n",
              " 'starcraft_video',\n",
              " 'stl10',\n",
              " 'story_cloze',\n",
              " 'summscreen',\n",
              " 'sun397',\n",
              " 'super_glue',\n",
              " 'svhn_cropped',\n",
              " 'symmetric_solids',\n",
              " 'taco_play',\n",
              " 'tao',\n",
              " 'tatoeba',\n",
              " 'ted_hrlr_translate',\n",
              " 'ted_multi_translate',\n",
              " 'tedlium',\n",
              " 'tf_flowers',\n",
              " 'the300w_lp',\n",
              " 'tiny_shakespeare',\n",
              " 'titanic',\n",
              " 'tokyo_u_lsmo_converted_externally_to_rlds',\n",
              " 'toto',\n",
              " 'trec',\n",
              " 'trivia_qa',\n",
              " 'tydi_qa',\n",
              " 'uc_merced',\n",
              " 'ucf101',\n",
              " 'ucsd_kitchen_dataset_converted_externally_to_rlds',\n",
              " 'ucsd_pick_and_place_dataset_converted_externally_to_rlds',\n",
              " 'uiuc_d3field',\n",
              " 'unified_qa',\n",
              " 'universal_dependencies',\n",
              " 'unnatural_instructions',\n",
              " 'usc_cloth_sim_converted_externally_to_rlds',\n",
              " 'user_libri_audio',\n",
              " 'user_libri_text',\n",
              " 'utaustin_mutex',\n",
              " 'utokyo_pr2_opening_fridge_converted_externally_to_rlds',\n",
              " 'utokyo_pr2_tabletop_manipulation_converted_externally_to_rlds',\n",
              " 'utokyo_saytap_converted_externally_to_rlds',\n",
              " 'utokyo_xarm_bimanual_converted_externally_to_rlds',\n",
              " 'utokyo_xarm_pick_and_place_converted_externally_to_rlds',\n",
              " 'vctk',\n",
              " 'viola',\n",
              " 'visual_domain_decathlon',\n",
              " 'voc',\n",
              " 'voxceleb',\n",
              " 'voxforge',\n",
              " 'waymo_open_dataset',\n",
              " 'web_graph',\n",
              " 'web_nlg',\n",
              " 'web_questions',\n",
              " 'webvid',\n",
              " 'wider_face',\n",
              " 'wiki40b',\n",
              " 'wiki_auto',\n",
              " 'wiki_bio',\n",
              " 'wiki_dialog',\n",
              " 'wiki_table_questions',\n",
              " 'wiki_table_text',\n",
              " 'wikiann',\n",
              " 'wikihow',\n",
              " 'wikipedia',\n",
              " 'wikipedia_toxicity_subtypes',\n",
              " 'wine_quality',\n",
              " 'winogrande',\n",
              " 'wit',\n",
              " 'wit_kaggle',\n",
              " 'wmt13_translate',\n",
              " 'wmt14_translate',\n",
              " 'wmt15_translate',\n",
              " 'wmt16_translate',\n",
              " 'wmt17_translate',\n",
              " 'wmt18_translate',\n",
              " 'wmt19_translate',\n",
              " 'wmt_t2t_translate',\n",
              " 'wmt_translate',\n",
              " 'wordnet',\n",
              " 'wsc273',\n",
              " 'xnli',\n",
              " 'xquad',\n",
              " 'xsum',\n",
              " 'xtreme_pawsx',\n",
              " 'xtreme_pos',\n",
              " 'xtreme_s',\n",
              " 'xtreme_xnli',\n",
              " 'yahoo_ltrc',\n",
              " 'yelp_polarity_reviews',\n",
              " 'yes_no',\n",
              " 'youtube_vis',\n",
              " 'huggingface:acronym_identification',\n",
              " 'huggingface:ade_corpus_v2',\n",
              " 'huggingface:adv_glue',\n",
              " 'huggingface:adversarial_qa',\n",
              " 'huggingface:aeslc',\n",
              " 'huggingface:afrikaans_ner_corpus',\n",
              " 'huggingface:ag_news',\n",
              " 'huggingface:ai2_arc',\n",
              " 'huggingface:air_dialogue',\n",
              " 'huggingface:ajgt_twitter_ar',\n",
              " 'huggingface:allegro_reviews',\n",
              " 'huggingface:allocine',\n",
              " 'huggingface:alt',\n",
              " 'huggingface:amazon_polarity',\n",
              " 'huggingface:amazon_reviews_multi',\n",
              " 'huggingface:amazon_us_reviews',\n",
              " 'huggingface:ambig_qa',\n",
              " 'huggingface:americas_nli',\n",
              " 'huggingface:ami',\n",
              " 'huggingface:amttl',\n",
              " 'huggingface:anli',\n",
              " 'huggingface:app_reviews',\n",
              " 'huggingface:aqua_rat',\n",
              " 'huggingface:aquamuse',\n",
              " 'huggingface:ar_cov19',\n",
              " 'huggingface:ar_res_reviews',\n",
              " 'huggingface:ar_sarcasm',\n",
              " 'huggingface:arabic_billion_words',\n",
              " 'huggingface:arabic_pos_dialect',\n",
              " 'huggingface:arabic_speech_corpus',\n",
              " 'huggingface:arcd',\n",
              " 'huggingface:arsentd_lev',\n",
              " 'huggingface:art',\n",
              " 'huggingface:arxiv_dataset',\n",
              " 'huggingface:ascent_kb',\n",
              " 'huggingface:aslg_pc12',\n",
              " 'huggingface:asnq',\n",
              " 'huggingface:asset',\n",
              " 'huggingface:assin',\n",
              " 'huggingface:assin2',\n",
              " 'huggingface:atomic',\n",
              " 'huggingface:autshumato',\n",
              " 'huggingface:babi_qa',\n",
              " 'huggingface:banking77',\n",
              " 'huggingface:bbaw_egyptian',\n",
              " 'huggingface:bbc_hindi_nli',\n",
              " 'huggingface:bc2gm_corpus',\n",
              " 'huggingface:beans',\n",
              " 'huggingface:best2009',\n",
              " 'huggingface:bianet',\n",
              " 'huggingface:bible_para',\n",
              " 'huggingface:big_patent',\n",
              " 'huggingface:bigbench',\n",
              " 'huggingface:billsum',\n",
              " 'huggingface:bing_coronavirus_query_set',\n",
              " 'huggingface:biomrc',\n",
              " 'huggingface:biosses',\n",
              " 'huggingface:biwi_kinect_head_pose',\n",
              " 'huggingface:blbooks',\n",
              " 'huggingface:blbooksgenre',\n",
              " 'huggingface:blended_skill_talk',\n",
              " 'huggingface:blimp',\n",
              " 'huggingface:blog_authorship_corpus',\n",
              " 'huggingface:bn_hate_speech',\n",
              " 'huggingface:bnl_newspapers',\n",
              " 'huggingface:bookcorpus',\n",
              " 'huggingface:bookcorpusopen',\n",
              " 'huggingface:boolq',\n",
              " 'huggingface:bprec',\n",
              " 'huggingface:break_data',\n",
              " 'huggingface:brwac',\n",
              " 'huggingface:bsd_ja_en',\n",
              " 'huggingface:bswac',\n",
              " 'huggingface:c3',\n",
              " 'huggingface:c4',\n",
              " 'huggingface:cail2018',\n",
              " 'huggingface:caner',\n",
              " 'huggingface:capes',\n",
              " 'huggingface:casino',\n",
              " 'huggingface:catalonia_independence',\n",
              " 'huggingface:cats_vs_dogs',\n",
              " 'huggingface:cawac',\n",
              " 'huggingface:cbt',\n",
              " 'huggingface:cc100',\n",
              " 'huggingface:cc_news',\n",
              " 'huggingface:ccaligned_multilingual',\n",
              " 'huggingface:cdsc',\n",
              " 'huggingface:cdt',\n",
              " 'huggingface:cedr',\n",
              " 'huggingface:cfq',\n",
              " 'huggingface:chr_en',\n",
              " 'huggingface:cifar10',\n",
              " 'huggingface:cifar100',\n",
              " 'huggingface:circa',\n",
              " 'huggingface:civil_comments',\n",
              " 'huggingface:clickbait_news_bg',\n",
              " 'huggingface:climate_fever',\n",
              " 'huggingface:clinc_oos',\n",
              " 'huggingface:clue',\n",
              " 'huggingface:cmrc2018',\n",
              " 'huggingface:cmu_hinglish_dog',\n",
              " 'huggingface:cnn_dailymail',\n",
              " 'huggingface:coached_conv_pref',\n",
              " 'huggingface:coarse_discourse',\n",
              " 'huggingface:codah',\n",
              " 'huggingface:code_search_net',\n",
              " 'huggingface:code_x_glue_cc_clone_detection_big_clone_bench',\n",
              " 'huggingface:code_x_glue_cc_clone_detection_poj104',\n",
              " 'huggingface:code_x_glue_cc_cloze_testing_all',\n",
              " 'huggingface:code_x_glue_cc_cloze_testing_maxmin',\n",
              " 'huggingface:code_x_glue_cc_code_completion_line',\n",
              " 'huggingface:code_x_glue_cc_code_completion_token',\n",
              " 'huggingface:code_x_glue_cc_code_refinement',\n",
              " 'huggingface:code_x_glue_cc_code_to_code_trans',\n",
              " 'huggingface:code_x_glue_cc_defect_detection',\n",
              " 'huggingface:code_x_glue_ct_code_to_text',\n",
              " 'huggingface:code_x_glue_tc_nl_code_search_adv',\n",
              " 'huggingface:code_x_glue_tc_text_to_code',\n",
              " 'huggingface:code_x_glue_tt_text_to_text',\n",
              " 'huggingface:com_qa',\n",
              " 'huggingface:common_gen',\n",
              " 'huggingface:common_language',\n",
              " 'huggingface:common_voice',\n",
              " 'huggingface:commonsense_qa',\n",
              " 'huggingface:competition_math',\n",
              " 'huggingface:compguesswhat',\n",
              " 'huggingface:conceptnet5',\n",
              " 'huggingface:conceptual_12m',\n",
              " 'huggingface:conceptual_captions',\n",
              " 'huggingface:conll2000',\n",
              " 'huggingface:conll2002',\n",
              " 'huggingface:conll2003',\n",
              " 'huggingface:conll2012_ontonotesv5',\n",
              " 'huggingface:conllpp',\n",
              " 'huggingface:consumer-finance-complaints',\n",
              " 'huggingface:conv_ai',\n",
              " 'huggingface:conv_ai_2',\n",
              " 'huggingface:conv_ai_3',\n",
              " 'huggingface:conv_questions',\n",
              " 'huggingface:coqa',\n",
              " 'huggingface:cord19',\n",
              " 'huggingface:cornell_movie_dialog',\n",
              " 'huggingface:cos_e',\n",
              " 'huggingface:cosmos_qa',\n",
              " 'huggingface:counter',\n",
              " 'huggingface:covid_qa_castorini',\n",
              " 'huggingface:covid_qa_deepset',\n",
              " 'huggingface:covid_qa_ucsd',\n",
              " 'huggingface:covid_tweets_japanese',\n",
              " 'huggingface:covost2',\n",
              " 'huggingface:cppe-5',\n",
              " 'huggingface:craigslist_bargains',\n",
              " 'huggingface:crawl_domain',\n",
              " 'huggingface:crd3',\n",
              " 'huggingface:crime_and_punish',\n",
              " 'huggingface:crows_pairs',\n",
              " 'huggingface:cryptonite',\n",
              " 'huggingface:cs_restaurants',\n",
              " 'huggingface:cuad',\n",
              " 'huggingface:curiosity_dialogs',\n",
              " 'huggingface:daily_dialog',\n",
              " 'huggingface:dane',\n",
              " 'huggingface:danish_political_comments',\n",
              " 'huggingface:dart',\n",
              " 'huggingface:datacommons_factcheck',\n",
              " 'huggingface:dbpedia_14',\n",
              " 'huggingface:dbrd',\n",
              " 'huggingface:deal_or_no_dialog',\n",
              " 'huggingface:definite_pronoun_resolution',\n",
              " 'huggingface:dengue_filipino',\n",
              " 'huggingface:dialog_re',\n",
              " 'huggingface:diplomacy_detection',\n",
              " 'huggingface:disaster_response_messages',\n",
              " 'huggingface:discofuse',\n",
              " 'huggingface:discovery',\n",
              " 'huggingface:disfl_qa',\n",
              " 'huggingface:doc2dial',\n",
              " 'huggingface:docred',\n",
              " 'huggingface:doqa',\n",
              " 'huggingface:dream',\n",
              " 'huggingface:drop',\n",
              " 'huggingface:duorc',\n",
              " 'huggingface:dutch_social',\n",
              " 'huggingface:dyk',\n",
              " 'huggingface:e2e_nlg',\n",
              " 'huggingface:e2e_nlg_cleaned',\n",
              " 'huggingface:ecb',\n",
              " 'huggingface:ecthr_cases',\n",
              " 'huggingface:eduge',\n",
              " 'huggingface:ehealth_kd',\n",
              " 'huggingface:eitb_parcc',\n",
              " 'huggingface:electricity_load_diagrams',\n",
              " 'huggingface:eli5',\n",
              " 'huggingface:eli5_category',\n",
              " 'huggingface:elkarhizketak',\n",
              " 'huggingface:emea',\n",
              " 'huggingface:emo',\n",
              " 'huggingface:emotion',\n",
              " 'huggingface:emotone_ar',\n",
              " 'huggingface:empathetic_dialogues',\n",
              " 'huggingface:enriched_web_nlg',\n",
              " 'huggingface:enwik8',\n",
              " 'huggingface:eraser_multi_rc',\n",
              " 'huggingface:esnli',\n",
              " 'huggingface:eth_py150_open',\n",
              " 'huggingface:ethos',\n",
              " 'huggingface:ett',\n",
              " 'huggingface:eu_regulatory_ir',\n",
              " 'huggingface:eurlex',\n",
              " 'huggingface:euronews',\n",
              " 'huggingface:europa_eac_tm',\n",
              " 'huggingface:europa_ecdc_tm',\n",
              " 'huggingface:europarl_bilingual',\n",
              " 'huggingface:event2Mind',\n",
              " 'huggingface:evidence_infer_treatment',\n",
              " 'huggingface:exams',\n",
              " 'huggingface:factckbr',\n",
              " 'huggingface:fake_news_english',\n",
              " 'huggingface:fake_news_filipino',\n",
              " 'huggingface:farsi_news',\n",
              " 'huggingface:fashion_mnist',\n",
              " 'huggingface:fever',\n",
              " 'huggingface:few_rel',\n",
              " 'huggingface:financial_phrasebank',\n",
              " 'huggingface:finer',\n",
              " 'huggingface:flores',\n",
              " 'huggingface:flue',\n",
              " 'huggingface:food101',\n",
              " 'huggingface:fquad',\n",
              " 'huggingface:freebase_qa',\n",
              " 'huggingface:gap',\n",
              " 'huggingface:gem',\n",
              " 'huggingface:generated_reviews_enth',\n",
              " 'huggingface:generics_kb',\n",
              " 'huggingface:german_legal_entity_recognition',\n",
              " 'huggingface:germaner',\n",
              " 'huggingface:germeval_14',\n",
              " 'huggingface:giga_fren',\n",
              " 'huggingface:gigaword',\n",
              " 'huggingface:glucose',\n",
              " 'huggingface:glue',\n",
              " 'huggingface:gnad10',\n",
              " 'huggingface:go_emotions',\n",
              " 'huggingface:gooaq',\n",
              " 'huggingface:google_wellformed_query',\n",
              " 'huggingface:grail_qa',\n",
              " 'huggingface:great_code',\n",
              " 'huggingface:greek_legal_code',\n",
              " 'huggingface:gsm8k',\n",
              " 'huggingface:guardian_authorship',\n",
              " 'huggingface:gutenberg_time',\n",
              " 'huggingface:hans',\n",
              " 'huggingface:hansards',\n",
              " 'huggingface:hard',\n",
              " 'huggingface:harem',\n",
              " 'huggingface:has_part',\n",
              " 'huggingface:hate_offensive',\n",
              " 'huggingface:hate_speech18',\n",
              " 'huggingface:hate_speech_filipino',\n",
              " 'huggingface:hate_speech_offensive',\n",
              " 'huggingface:hate_speech_pl',\n",
              " 'huggingface:hate_speech_portuguese',\n",
              " 'huggingface:hatexplain',\n",
              " 'huggingface:hausa_voa_ner',\n",
              " 'huggingface:hausa_voa_topics',\n",
              " 'huggingface:hda_nli_hindi',\n",
              " 'huggingface:head_qa',\n",
              " 'huggingface:health_fact',\n",
              " 'huggingface:hebrew_projectbenyehuda',\n",
              " 'huggingface:hebrew_sentiment',\n",
              " 'huggingface:hebrew_this_world',\n",
              " 'huggingface:hellaswag',\n",
              " 'huggingface:hendrycks_test',\n",
              " 'huggingface:hind_encorp',\n",
              " 'huggingface:hindi_discourse',\n",
              " 'huggingface:hippocorpus',\n",
              " 'huggingface:hkcancor',\n",
              " 'huggingface:hlgd',\n",
              " 'huggingface:hope_edi',\n",
              " 'huggingface:hotpot_qa',\n",
              " 'huggingface:hover',\n",
              " 'huggingface:hrenwac_para',\n",
              " 'huggingface:hrwac',\n",
              " 'huggingface:humicroedit',\n",
              " 'huggingface:hybrid_qa',\n",
              " 'huggingface:hyperpartisan_news_detection',\n",
              " 'huggingface:iapp_wiki_qa_squad',\n",
              " 'huggingface:id_clickbait',\n",
              " 'huggingface:id_liputan6',\n",
              " 'huggingface:id_nergrit_corpus',\n",
              " 'huggingface:id_newspapers_2018',\n",
              " 'huggingface:id_panl_bppt',\n",
              " 'huggingface:id_puisi',\n",
              " 'huggingface:igbo_english_machine_translation',\n",
              " 'huggingface:igbo_monolingual',\n",
              " 'huggingface:igbo_ner',\n",
              " 'huggingface:ilist',\n",
              " 'huggingface:imagenet-1k',\n",
              " 'huggingface:imagenet_sketch',\n",
              " 'huggingface:imdb',\n",
              " 'huggingface:imdb_urdu_reviews',\n",
              " 'huggingface:imppres',\n",
              " 'huggingface:indic_glue',\n",
              " 'huggingface:indonli',\n",
              " 'huggingface:indonlu',\n",
              " 'huggingface:inquisitive_qg',\n",
              " 'huggingface:interpress_news_category_tr',\n",
              " 'huggingface:interpress_news_category_tr_lite',\n",
              " 'huggingface:irc_disentangle',\n",
              " 'huggingface:isixhosa_ner_corpus',\n",
              " 'huggingface:isizulu_ner_corpus',\n",
              " 'huggingface:iwslt2017',\n",
              " 'huggingface:jeopardy',\n",
              " 'huggingface:jfleg',\n",
              " 'huggingface:jigsaw_toxicity_pred',\n",
              " 'huggingface:jigsaw_unintended_bias',\n",
              " 'huggingface:jnlpba',\n",
              " 'huggingface:journalists_questions',\n",
              " 'huggingface:kan_hope',\n",
              " 'huggingface:kannada_news',\n",
              " 'huggingface:kd_conv',\n",
              " 'huggingface:kde4',\n",
              " 'huggingface:kelm',\n",
              " 'huggingface:kilt_tasks',\n",
              " 'huggingface:kilt_wikipedia',\n",
              " 'huggingface:kinnews_kirnews',\n",
              " 'huggingface:klue',\n",
              " 'huggingface:kor_3i4k',\n",
              " 'huggingface:kor_hate',\n",
              " 'huggingface:kor_ner',\n",
              " 'huggingface:kor_nli',\n",
              " 'huggingface:kor_nlu',\n",
              " 'huggingface:kor_qpair',\n",
              " 'huggingface:kor_sae',\n",
              " 'huggingface:kor_sarcasm',\n",
              " 'huggingface:labr',\n",
              " 'huggingface:lama',\n",
              " 'huggingface:lambada',\n",
              " 'huggingface:large_spanish_corpus',\n",
              " 'huggingface:laroseda',\n",
              " 'huggingface:lc_quad',\n",
              " 'huggingface:lccc',\n",
              " 'huggingface:lener_br',\n",
              " 'huggingface:lex_glue',\n",
              " 'huggingface:liar',\n",
              " 'huggingface:librispeech_asr',\n",
              " 'huggingface:librispeech_lm',\n",
              " 'huggingface:limit',\n",
              " 'huggingface:lince',\n",
              " 'huggingface:linnaeus',\n",
              " 'huggingface:liveqa',\n",
              " 'huggingface:lj_speech',\n",
              " 'huggingface:lm1b',\n",
              " 'huggingface:lst20',\n",
              " 'huggingface:m_lama',\n",
              " 'huggingface:mac_morpho',\n",
              " 'huggingface:makhzan',\n",
              " 'huggingface:masakhaner',\n",
              " 'huggingface:math_dataset',\n",
              " 'huggingface:math_qa',\n",
              " 'huggingface:matinf',\n",
              " 'huggingface:mbpp',\n",
              " 'huggingface:mc4',\n",
              " 'huggingface:mc_taco',\n",
              " 'huggingface:md_gender_bias',\n",
              " 'huggingface:mdd',\n",
              " 'huggingface:med_hop',\n",
              " 'huggingface:medal',\n",
              " 'huggingface:medical_dialog',\n",
              " 'huggingface:medical_questions_pairs',\n",
              " 'huggingface:medmcqa',\n",
              " 'huggingface:menyo20k_mt',\n",
              " 'huggingface:meta_woz',\n",
              " 'huggingface:metashift',\n",
              " 'huggingface:metooma',\n",
              " 'huggingface:metrec',\n",
              " 'huggingface:miam',\n",
              " 'huggingface:mkb',\n",
              " 'huggingface:mkqa',\n",
              " 'huggingface:mlqa',\n",
              " 'huggingface:mlsum',\n",
              " 'huggingface:mnist',\n",
              " 'huggingface:mocha',\n",
              " 'huggingface:monash_tsf',\n",
              " 'huggingface:moroco',\n",
              " 'huggingface:movie_rationales',\n",
              " 'huggingface:mrqa',\n",
              " 'huggingface:ms_marco',\n",
              " 'huggingface:ms_terms',\n",
              " 'huggingface:msr_genomics_kbcomp',\n",
              " 'huggingface:msr_sqa',\n",
              " 'huggingface:msr_text_compression',\n",
              " 'huggingface:msr_zhen_translation_parity',\n",
              " 'huggingface:msra_ner',\n",
              " 'huggingface:mt_eng_vietnamese',\n",
              " 'huggingface:muchocine',\n",
              " 'huggingface:multi_booked',\n",
              " 'huggingface:multi_eurlex',\n",
              " 'huggingface:multi_news',\n",
              " 'huggingface:multi_nli',\n",
              " 'huggingface:multi_nli_mismatch',\n",
              " 'huggingface:multi_para_crawl',\n",
              " 'huggingface:multi_re_qa',\n",
              " 'huggingface:multi_woz_v22',\n",
              " 'huggingface:multi_x_science_sum',\n",
              " 'huggingface:multidoc2dial',\n",
              " 'huggingface:multilingual_librispeech',\n",
              " 'huggingface:mutual_friends',\n",
              " 'huggingface:mwsc',\n",
              " 'huggingface:myanmar_news',\n",
              " 'huggingface:narrativeqa',\n",
              " 'huggingface:narrativeqa_manual',\n",
              " 'huggingface:natural_questions',\n",
              " 'huggingface:ncbi_disease',\n",
              " 'huggingface:nchlt',\n",
              " 'huggingface:ncslgr',\n",
              " 'huggingface:nell',\n",
              " 'huggingface:neural_code_search',\n",
              " 'huggingface:news_commentary',\n",
              " 'huggingface:newsgroup',\n",
              " 'huggingface:newsph',\n",
              " 'huggingface:newsph_nli',\n",
              " 'huggingface:newspop',\n",
              " 'huggingface:newsqa',\n",
              " 'huggingface:newsroom',\n",
              " 'huggingface:nkjp-ner',\n",
              " 'huggingface:nli_tr',\n",
              " 'huggingface:nlu_evaluation_data',\n",
              " 'huggingface:norec',\n",
              " 'huggingface:norne',\n",
              " 'huggingface:norwegian_ner',\n",
              " 'huggingface:nq_open',\n",
              " 'huggingface:nsmc',\n",
              " 'huggingface:numer_sense',\n",
              " 'huggingface:numeric_fused_head',\n",
              " 'huggingface:oclar',\n",
              " 'huggingface:offcombr',\n",
              " 'huggingface:offenseval2020_tr',\n",
              " 'huggingface:offenseval_dravidian',\n",
              " 'huggingface:ofis_publik',\n",
              " 'huggingface:ohsumed',\n",
              " 'huggingface:ollie',\n",
              " 'huggingface:omp',\n",
              " 'huggingface:onestop_english',\n",
              " 'huggingface:onestop_qa',\n",
              " 'huggingface:open_subtitles',\n",
              " 'huggingface:openai_humaneval',\n",
              " 'huggingface:openbookqa',\n",
              " 'huggingface:openslr',\n",
              " 'huggingface:openwebtext',\n",
              " 'huggingface:opinosis',\n",
              " 'huggingface:opus100',\n",
              " 'huggingface:opus_books',\n",
              " 'huggingface:opus_dgt',\n",
              " 'huggingface:opus_dogc',\n",
              " 'huggingface:opus_elhuyar',\n",
              " 'huggingface:opus_euconst',\n",
              " 'huggingface:opus_finlex',\n",
              " 'huggingface:opus_fiskmo',\n",
              " 'huggingface:opus_gnome',\n",
              " 'huggingface:opus_infopankki',\n",
              " 'huggingface:opus_memat',\n",
              " 'huggingface:opus_montenegrinsubs',\n",
              " 'huggingface:opus_openoffice',\n",
              " 'huggingface:opus_paracrawl',\n",
              " 'huggingface:opus_rf',\n",
              " 'huggingface:opus_tedtalks',\n",
              " 'huggingface:opus_ubuntu',\n",
              " 'huggingface:opus_wikipedia',\n",
              " 'huggingface:opus_xhosanavy',\n",
              " 'huggingface:orange_sum',\n",
              " 'huggingface:oscar',\n",
              " 'huggingface:para_crawl',\n",
              " 'huggingface:para_pat',\n",
              " 'huggingface:parsinlu_reading_comprehension',\n",
              " 'huggingface:pass',\n",
              " 'huggingface:paws',\n",
              " 'huggingface:paws-x',\n",
              " 'huggingface:pec',\n",
              " 'huggingface:peer_read',\n",
              " 'huggingface:peoples_daily_ner',\n",
              " 'huggingface:per_sent',\n",
              " 'huggingface:persian_ner',\n",
              " 'huggingface:pg19',\n",
              " 'huggingface:php',\n",
              " 'huggingface:piaf',\n",
              " 'huggingface:pib',\n",
              " 'huggingface:piqa',\n",
              " 'huggingface:pn_summary',\n",
              " 'huggingface:poem_sentiment',\n",
              " 'huggingface:polemo2',\n",
              " 'huggingface:poleval2019_cyberbullying',\n",
              " 'huggingface:poleval2019_mt',\n",
              " 'huggingface:polsum',\n",
              " 'huggingface:polyglot_ner',\n",
              " 'huggingface:prachathai67k',\n",
              " 'huggingface:pragmeval',\n",
              " 'huggingface:proto_qa',\n",
              " 'huggingface:psc',\n",
              " 'huggingface:ptb_text_only',\n",
              " 'huggingface:pubmed',\n",
              " 'huggingface:pubmed_qa',\n",
              " 'huggingface:py_ast',\n",
              " 'huggingface:qa4mre',\n",
              " 'huggingface:qa_srl',\n",
              " 'huggingface:qa_zre',\n",
              " 'huggingface:qangaroo',\n",
              " 'huggingface:qanta',\n",
              " 'huggingface:qasc',\n",
              " 'huggingface:qasper',\n",
              " 'huggingface:qed',\n",
              " 'huggingface:qed_amara',\n",
              " 'huggingface:quac',\n",
              " 'huggingface:quail',\n",
              " 'huggingface:quarel',\n",
              " 'huggingface:quartz',\n",
              " 'huggingface:quickdraw',\n",
              " 'huggingface:quora',\n",
              " 'huggingface:quoref',\n",
              " 'huggingface:race',\n",
              " 'huggingface:re_dial',\n",
              " 'huggingface:reasoning_bg',\n",
              " 'huggingface:recipe_nlg',\n",
              " 'huggingface:reclor',\n",
              " 'huggingface:red_caps',\n",
              " 'huggingface:reddit',\n",
              " 'huggingface:reddit_tifu',\n",
              " 'huggingface:refresd',\n",
              " 'huggingface:reuters21578',\n",
              " 'huggingface:riddle_sense',\n",
              " 'huggingface:ro_sent',\n",
              " 'huggingface:ro_sts',\n",
              " 'huggingface:ro_sts_parallel',\n",
              " 'huggingface:roman_urdu',\n",
              " 'huggingface:roman_urdu_hate_speech',\n",
              " 'huggingface:ronec',\n",
              " 'huggingface:ropes',\n",
              " 'huggingface:rotten_tomatoes',\n",
              " 'huggingface:russian_super_glue',\n",
              " 'huggingface:rvl_cdip',\n",
              " 'huggingface:s2orc',\n",
              " 'huggingface:samsum',\n",
              " 'huggingface:sanskrit_classic',\n",
              " 'huggingface:saudinewsnet',\n",
              " 'huggingface:sberquad',\n",
              " 'huggingface:sbu_captions',\n",
              " 'huggingface:scan',\n",
              " 'huggingface:scb_mt_enth_2020',\n",
              " 'huggingface:scene_parse_150',\n",
              " 'huggingface:schema_guided_dstc8',\n",
              " 'huggingface:scicite',\n",
              " 'huggingface:scielo',\n",
              " 'huggingface:scientific_papers',\n",
              " 'huggingface:scifact',\n",
              " 'huggingface:sciq',\n",
              " 'huggingface:scitail',\n",
              " 'huggingface:scitldr',\n",
              " 'huggingface:search_qa',\n",
              " 'huggingface:sede',\n",
              " 'huggingface:selqa',\n",
              " 'huggingface:sem_eval_2010_task_8',\n",
              " 'huggingface:sem_eval_2014_task_1',\n",
              " 'huggingface:sem_eval_2018_task_1',\n",
              " 'huggingface:sem_eval_2020_task_11',\n",
              " 'huggingface:sent_comp',\n",
              " 'huggingface:senti_lex',\n",
              " 'huggingface:senti_ws',\n",
              " 'huggingface:sentiment140',\n",
              " 'huggingface:sepedi_ner',\n",
              " 'huggingface:sesotho_ner_corpus',\n",
              " 'huggingface:setimes',\n",
              " 'huggingface:setswana_ner_corpus',\n",
              " 'huggingface:sharc',\n",
              " 'huggingface:sharc_modified',\n",
              " 'huggingface:sick',\n",
              " 'huggingface:silicone',\n",
              " 'huggingface:simple_questions_v2',\n",
              " 'huggingface:siswati_ner_corpus',\n",
              " 'huggingface:smartdata',\n",
              " 'huggingface:sms_spam',\n",
              " 'huggingface:snips_built_in_intents',\n",
              " 'huggingface:snli',\n",
              " 'huggingface:snow_simplified_japanese_corpus',\n",
              " 'huggingface:so_stacksample',\n",
              " 'huggingface:social_bias_frames',\n",
              " 'huggingface:social_i_qa',\n",
              " 'huggingface:sofc_materials_articles',\n",
              " ...]"
            ]
          },
          "metadata": {},
          "execution_count": 3
        }
      ],
      "source": [
        "tfds.list_builders()"
      ]
    },
    {
      "cell_type": "code",
      "execution_count": 4,
      "metadata": {
        "colab": {
          "base_uri": "https://localhost:8080/"
        },
        "id": "_qLBBKFjeaaK",
        "outputId": "f18f8ed9-6993-48d3-d0b5-3eb61ef1fc3a"
      },
      "outputs": [
        {
          "output_type": "execute_result",
          "data": {
            "text/plain": [
              "tfds.core.DatasetInfo(\n",
              "    name='rock_paper_scissors',\n",
              "    full_name='rock_paper_scissors/3.0.0',\n",
              "    description=\"\"\"\n",
              "    Images of hands playing rock, paper, scissor game.\n",
              "    \"\"\",\n",
              "    homepage='http://laurencemoroney.com/rock-paper-scissors-dataset',\n",
              "    data_dir=PosixGPath('/tmp/tmpolh9rrhutfds'),\n",
              "    file_format=tfrecord,\n",
              "    download_size=219.53 MiB,\n",
              "    dataset_size=Unknown size,\n",
              "    features=FeaturesDict({\n",
              "        'image': Image(shape=(300, 300, 3), dtype=uint8),\n",
              "        'label': ClassLabel(shape=(), dtype=int64, num_classes=3),\n",
              "    }),\n",
              "    supervised_keys=('image', 'label'),\n",
              "    disable_shuffling=False,\n",
              "    splits={\n",
              "        'test': <SplitInfo num_examples=372, num_shards=1>,\n",
              "        'train': <SplitInfo num_examples=2520, num_shards=2>,\n",
              "    },\n",
              "    citation=\"\"\"@ONLINE {rps,\n",
              "    author = \"Laurence Moroney\",\n",
              "    title = \"Rock, Paper, Scissors Dataset\",\n",
              "    month = \"feb\",\n",
              "    year = \"2019\",\n",
              "    url = \"http://laurencemoroney.com/rock-paper-scissors-dataset\"\n",
              "    }\"\"\",\n",
              ")"
            ]
          },
          "metadata": {},
          "execution_count": 4
        }
      ],
      "source": [
        "builder = tfds.builder('rock_paper_scissors')\n",
        "info = builder.info\n",
        "info"
      ]
    },
    {
      "cell_type": "markdown",
      "metadata": {
        "id": "KosanNvhZ9sd"
      },
      "source": [
        "# Prepare rock_paper_scissors Data\n"
      ]
    },
    {
      "cell_type": "code",
      "execution_count": 5,
      "metadata": {
        "colab": {
          "base_uri": "https://localhost:8080/"
        },
        "id": "r6Hys3fffQUK",
        "outputId": "572e26b3-0f0f-48d7-bcdb-e7bf4a0940b5"
      },
      "outputs": [
        {
          "output_type": "stream",
          "name": "stdout",
          "text": [
            "Downloading and preparing dataset 219.53 MiB (download: 219.53 MiB, generated: Unknown size, total: 219.53 MiB) to /root/tensorflow_datasets/rock_paper_scissors/3.0.0...\n",
            "Dataset rock_paper_scissors downloaded and prepared to /root/tensorflow_datasets/rock_paper_scissors/3.0.0. Subsequent calls will reuse this data.\n"
          ]
        }
      ],
      "source": [
        "ds_train = tfds.load(name='rock_paper_scissors',split='train')\n",
        "ds_test = tfds.load(name='rock_paper_scissors',split='test')"
      ]
    },
    {
      "cell_type": "code",
      "execution_count": 6,
      "metadata": {
        "id": "94rQIQJEi6rJ"
      },
      "outputs": [],
      "source": [
        "#ig = tfds.show_examples(info,ds_train)"
      ]
    },
    {
      "cell_type": "markdown",
      "metadata": {
        "id": "nEL7TGL_mRJ2"
      },
      "source": [
        "# Data Pre\n",
        "Convert the data into numpy format"
      ]
    },
    {
      "cell_type": "code",
      "execution_count": 7,
      "metadata": {
        "id": "j0qahygpmZBp"
      },
      "outputs": [],
      "source": [
        "train_img = [example['image'] for example in ds_train]"
      ]
    },
    {
      "cell_type": "code",
      "execution_count": 8,
      "metadata": {
        "colab": {
          "base_uri": "https://localhost:8080/"
        },
        "id": "GEIEtK_NpPbr",
        "outputId": "8ebdd120-6860-4c71-bd97-5299dafd88ed"
      },
      "outputs": [
        {
          "output_type": "execute_result",
          "data": {
            "text/plain": [
              "tensorflow.python.framework.ops.EagerTensor"
            ]
          },
          "metadata": {},
          "execution_count": 8
        }
      ],
      "source": [
        "type(train_img[0])"
      ]
    },
    {
      "cell_type": "code",
      "execution_count": 9,
      "metadata": {
        "id": "C4le2IEPpsDB"
      },
      "outputs": [],
      "source": [
        "train_img=np.array([example['image'].numpy()for example in ds_train])"
      ]
    },
    {
      "cell_type": "code",
      "execution_count": 10,
      "metadata": {
        "colab": {
          "base_uri": "https://localhost:8080/"
        },
        "id": "RYianCx_qoVd",
        "outputId": "40f74bb1-3c97-4de6-e64b-fde4059d26eb"
      },
      "outputs": [
        {
          "output_type": "execute_result",
          "data": {
            "text/plain": [
              "numpy.ndarray"
            ]
          },
          "metadata": {},
          "execution_count": 10
        }
      ],
      "source": [
        "type(train_img[0])"
      ]
    },
    {
      "cell_type": "code",
      "execution_count": 11,
      "metadata": {
        "colab": {
          "base_uri": "https://localhost:8080/"
        },
        "id": "DoViJHWpqxfa",
        "outputId": "44476bb2-cc89-4a48-8dcb-175b9d45bc54"
      },
      "outputs": [
        {
          "output_type": "execute_result",
          "data": {
            "text/plain": [
              "(2520, 300, 300, 3)"
            ]
          },
          "metadata": {},
          "execution_count": 11
        }
      ],
      "source": [
        "train_img.shape"
      ]
    },
    {
      "cell_type": "code",
      "execution_count": 12,
      "metadata": {
        "id": "qMIYiHq-q2sO"
      },
      "outputs": [],
      "source": [
        "train_img=np.array([example['image'].numpy()[:,:,0]for example in ds_train])"
      ]
    },
    {
      "cell_type": "code",
      "execution_count": 13,
      "metadata": {
        "colab": {
          "base_uri": "https://localhost:8080/"
        },
        "id": "Z14BpRXsrQea",
        "outputId": "9b1b874f-3357-47fb-8608-f562da51131b"
      },
      "outputs": [
        {
          "output_type": "execute_result",
          "data": {
            "text/plain": [
              "(2520, 300, 300)"
            ]
          },
          "metadata": {},
          "execution_count": 13
        }
      ],
      "source": [
        "train_img.shape"
      ]
    },
    {
      "cell_type": "code",
      "execution_count": 14,
      "metadata": {
        "id": "tPEmMy5vrfOL"
      },
      "outputs": [],
      "source": [
        "train_label=np.array([example['label'].numpy()for example in ds_train])\n",
        "test_img=np.array([example['image'].numpy()[:,:,0]for example in ds_test])\n",
        "test_label=np.array([example['label'].numpy()for example in ds_test])"
      ]
    },
    {
      "cell_type": "code",
      "execution_count": 15,
      "metadata": {
        "colab": {
          "base_uri": "https://localhost:8080/"
        },
        "id": "O7TQc2CQs4-4",
        "outputId": "59d23015-70dc-4342-93d5-945f5f517c8c"
      },
      "outputs": [
        {
          "output_type": "execute_result",
          "data": {
            "text/plain": [
              "(372, 300, 300)"
            ]
          },
          "metadata": {},
          "execution_count": 15
        }
      ],
      "source": [
        "test_img.shape"
      ]
    },
    {
      "cell_type": "code",
      "execution_count": 16,
      "metadata": {
        "id": "bQa3kk2T85nq"
      },
      "outputs": [],
      "source": [
        "#when we use CNN we must say hey this greyscale\n",
        "train_img=train_img.reshape (2520,300,300,1)\n",
        "test_img = test_img.reshape (372, 300, 300,1)"
      ]
    },
    {
      "cell_type": "code",
      "execution_count": 17,
      "metadata": {
        "colab": {
          "base_uri": "https://localhost:8080/"
        },
        "id": "g-QgYnK4tpI2",
        "outputId": "4b48419b-95c4-423a-bdbc-5aab9414c4f5"
      },
      "outputs": [
        {
          "output_type": "execute_result",
          "data": {
            "text/plain": [
              "dtype('uint8')"
            ]
          },
          "metadata": {},
          "execution_count": 17
        }
      ],
      "source": [
        "train_img.dtype"
      ]
    },
    {
      "cell_type": "code",
      "execution_count": 18,
      "metadata": {
        "id": "nHZ6_L0-_Kiy"
      },
      "outputs": [],
      "source": [
        "#when we work with CNN or image classifiction we work with float value specially between 0-1\n",
        "train_img = train_img.astype('float32')\n",
        "test_img = test_img.astype('float32')\n",
        "train_img /=255\n",
        "test_img/=255"
      ]
    },
    {
      "cell_type": "code",
      "execution_count": 19,
      "metadata": {
        "colab": {
          "base_uri": "https://localhost:8080/"
        },
        "id": "ae0MjmFXAihN",
        "outputId": "ca5d1e9c-157c-4a0e-ee85-61ee059ef745"
      },
      "outputs": [
        {
          "output_type": "execute_result",
          "data": {
            "text/plain": [
              "dtype('float32')"
            ]
          },
          "metadata": {},
          "execution_count": 19
        }
      ],
      "source": [
        "train_img.dtype"
      ]
    },
    {
      "cell_type": "code",
      "execution_count": 20,
      "metadata": {
        "colab": {
          "base_uri": "https://localhost:8080/"
        },
        "id": "vho0RE-4AoK7",
        "outputId": "13aeec53-0e07-4a82-d377-f116fa8960b0"
      },
      "outputs": [
        {
          "output_type": "execute_result",
          "data": {
            "text/plain": [
              "array([[[0.99607843],\n",
              "        [0.99215686],\n",
              "        [0.99607843],\n",
              "        ...,\n",
              "        [0.9843137 ],\n",
              "        [0.98039216],\n",
              "        [0.98039216]],\n",
              "\n",
              "       [[0.99607843],\n",
              "        [0.99607843],\n",
              "        [0.99215686],\n",
              "        ...,\n",
              "        [0.98039216],\n",
              "        [0.9843137 ],\n",
              "        [0.9764706 ]],\n",
              "\n",
              "       [[0.99607843],\n",
              "        [0.99607843],\n",
              "        [0.99607843],\n",
              "        ...,\n",
              "        [0.9843137 ],\n",
              "        [0.98039216],\n",
              "        [0.9882353 ]],\n",
              "\n",
              "       ...,\n",
              "\n",
              "       [[0.9882353 ],\n",
              "        [0.9843137 ],\n",
              "        [0.9882353 ],\n",
              "        ...,\n",
              "        [0.96862745],\n",
              "        [0.9764706 ],\n",
              "        [0.972549  ]],\n",
              "\n",
              "       [[0.99215686],\n",
              "        [0.99215686],\n",
              "        [0.9843137 ],\n",
              "        ...,\n",
              "        [0.972549  ],\n",
              "        [0.972549  ],\n",
              "        [0.972549  ]],\n",
              "\n",
              "       [[0.9882353 ],\n",
              "        [0.99215686],\n",
              "        [0.9882353 ],\n",
              "        ...,\n",
              "        [0.972549  ],\n",
              "        [0.96862745],\n",
              "        [0.98039216]]], dtype=float32)"
            ]
          },
          "metadata": {},
          "execution_count": 20
        }
      ],
      "source": [
        "train_img[0]"
      ]
    },
    {
      "cell_type": "markdown",
      "metadata": {
        "id": "RzF8t157Ax8C"
      },
      "source": [
        "#Train a Network(basic approach)"
      ]
    },
    {
      "cell_type": "code",
      "execution_count": 21,
      "metadata": {
        "id": "tPSJOB0IA3sf"
      },
      "outputs": [],
      "source": [
        "model=keras.Sequential([\n",
        "    keras.layers.Flatten(),\n",
        "    keras.layers.Dense(512,activation='relu'),\n",
        "    keras.layers.Dense(256,activation='relu'),\n",
        "    keras.layers.Dense(3,activation='softmax')]\n",
        "\n",
        ")\n"
      ]
    },
    {
      "cell_type": "code",
      "execution_count": 22,
      "metadata": {
        "id": "4pLFK53UELXi"
      },
      "outputs": [],
      "source": [
        "model.compile(\n",
        "    optimizer='adam',\n",
        "    loss=keras.losses.SparseCategoricalCrossentropy(),\n",
        "    metrics=['accuracy']\n",
        ")"
      ]
    },
    {
      "cell_type": "markdown",
      "metadata": {
        "id": "94UwmUpPGdyT"
      },
      "source": [
        "32 samples from the training dataset will be used to estimate the error gradient before the model weights are updated."
      ]
    },
    {
      "cell_type": "code",
      "execution_count": 23,
      "metadata": {
        "colab": {
          "base_uri": "https://localhost:8080/"
        },
        "id": "ui8ctrcTEvlu",
        "outputId": "ed4d733b-ec06-4f54-c229-a9e33fb4f46c"
      },
      "outputs": [
        {
          "output_type": "stream",
          "name": "stdout",
          "text": [
            "Epoch 1/5\n",
            "79/79 [==============================] - 4s 21ms/step - loss: 30.1646 - accuracy: 0.3782\n",
            "Epoch 2/5\n",
            "79/79 [==============================] - 2s 22ms/step - loss: 2.0321 - accuracy: 0.6560\n",
            "Epoch 3/5\n",
            "79/79 [==============================] - 2s 19ms/step - loss: 1.4352 - accuracy: 0.6802\n",
            "Epoch 4/5\n",
            "79/79 [==============================] - 2s 19ms/step - loss: 0.4632 - accuracy: 0.8357\n",
            "Epoch 5/5\n",
            "79/79 [==============================] - 2s 19ms/step - loss: 0.4434 - accuracy: 0.8353\n"
          ]
        },
        {
          "output_type": "execute_result",
          "data": {
            "text/plain": [
              "<keras.src.callbacks.History at 0x7bd12554ead0>"
            ]
          },
          "metadata": {},
          "execution_count": 23
        }
      ],
      "source": [
        "model.fit(train_img,train_label,epochs=5,batch_size=32)"
      ]
    },
    {
      "cell_type": "code",
      "execution_count": 24,
      "metadata": {
        "id": "cZEDzAzZQSE3",
        "colab": {
          "base_uri": "https://localhost:8080/"
        },
        "outputId": "6c6027fd-feb2-4bbd-ba4c-f03ae3898939"
      },
      "outputs": [
        {
          "output_type": "stream",
          "name": "stdout",
          "text": [
            "12/12 [==============================] - 0s 8ms/step - loss: 1.8676 - accuracy: 0.5591\n"
          ]
        },
        {
          "output_type": "execute_result",
          "data": {
            "text/plain": [
              "[1.8676400184631348, 0.5591397881507874]"
            ]
          },
          "metadata": {},
          "execution_count": 24
        }
      ],
      "source": [
        "model.evaluate(test_img,test_label)"
      ]
    },
    {
      "cell_type": "markdown",
      "metadata": {
        "id": "K4FQwKEHQznb"
      },
      "source": [
        "#Train Network(Convolution approach)"
      ]
    },
    {
      "cell_type": "code",
      "execution_count": 25,
      "metadata": {
        "id": "S5mmEyioQxPw"
      },
      "outputs": [],
      "source": [
        "model= keras.Sequential([\n",
        "    keras.layers.AveragePooling2D(6,3,input_shape=(300,300,1)),\n",
        "    keras.layers.Conv2D(64,3,activation='relu'),\n",
        "    keras.layers.MaxPool2D(2,2),\n",
        "    keras.layers.Conv2D(32,3,activation='relu'),\n",
        "    keras.layers.Dropout(0.5),\n",
        "    keras.layers.Flatten(),\n",
        "    keras.layers.Dense(3,activation='softmax')\n",
        "])\n"
      ]
    },
    {
      "cell_type": "code",
      "execution_count": 26,
      "metadata": {
        "id": "qyMeSeB8Ur3q"
      },
      "outputs": [],
      "source": [
        "model.compile(\n",
        "    optimizer='adam',\n",
        "    loss=keras.losses.SparseCategoricalCrossentropy(),\n",
        "    metrics=['accuracy']\n",
        ")"
      ]
    },
    {
      "cell_type": "code",
      "execution_count": 27,
      "metadata": {
        "id": "uoLL2zElU4eb",
        "colab": {
          "base_uri": "https://localhost:8080/"
        },
        "outputId": "0d72305b-726d-45a5-ce5f-b3d267a200be"
      },
      "outputs": [
        {
          "output_type": "stream",
          "name": "stdout",
          "text": [
            "Epoch 1/5\n",
            "79/79 [==============================] - 6s 22ms/step - loss: 0.9566 - accuracy: 0.5758\n",
            "Epoch 2/5\n",
            "79/79 [==============================] - 1s 18ms/step - loss: 0.3675 - accuracy: 0.8948\n",
            "Epoch 3/5\n",
            "79/79 [==============================] - 1s 18ms/step - loss: 0.1466 - accuracy: 0.9722\n",
            "Epoch 4/5\n",
            "79/79 [==============================] - 1s 18ms/step - loss: 0.0815 - accuracy: 0.9837\n",
            "Epoch 5/5\n",
            "79/79 [==============================] - 1s 18ms/step - loss: 0.0498 - accuracy: 0.9881\n"
          ]
        },
        {
          "output_type": "execute_result",
          "data": {
            "text/plain": [
              "<keras.src.callbacks.History at 0x7bd11ff38e80>"
            ]
          },
          "metadata": {},
          "execution_count": 27
        }
      ],
      "source": [
        "model.fit(train_img,train_label,epochs=5,batch_size=32)"
      ]
    },
    {
      "cell_type": "code",
      "source": [
        "model.evaluate(test_img,test_label)"
      ],
      "metadata": {
        "colab": {
          "base_uri": "https://localhost:8080/"
        },
        "id": "1Eo28UNze0tv",
        "outputId": "e9adc3be-3e90-4dea-8265-0384b66fc480"
      },
      "execution_count": 28,
      "outputs": [
        {
          "output_type": "stream",
          "name": "stdout",
          "text": [
            "12/12 [==============================] - 0s 26ms/step - loss: 0.6155 - accuracy: 0.7608\n"
          ]
        },
        {
          "output_type": "execute_result",
          "data": {
            "text/plain": [
              "[0.6155309081077576, 0.7607526779174805]"
            ]
          },
          "metadata": {},
          "execution_count": 28
        }
      ]
    },
    {
      "cell_type": "markdown",
      "source": [
        "#Hyperparametre Tuning\n"
      ],
      "metadata": {
        "id": "f92U279BhYJe"
      }
    },
    {
      "cell_type": "code",
      "source": [
        "pip install keras-tuner --upgrade"
      ],
      "metadata": {
        "colab": {
          "base_uri": "https://localhost:8080/"
        },
        "id": "mKXOgSiLhkeA",
        "outputId": "45d5817b-9315-491d-abe1-70471cdb5d4d"
      },
      "execution_count": 29,
      "outputs": [
        {
          "output_type": "stream",
          "name": "stdout",
          "text": [
            "Collecting keras-tuner\n",
            "  Downloading keras_tuner-1.4.6-py3-none-any.whl (128 kB)\n",
            "\u001b[?25l     \u001b[90m━━━━━━━━━━━━━━━━━━━━━━━━━━━━━━━━━━━━━━━━\u001b[0m \u001b[32m0.0/128.9 kB\u001b[0m \u001b[31m?\u001b[0m eta \u001b[36m-:--:--\u001b[0m\r\u001b[2K     \u001b[90m━━━━━━━━━━━━━━━━━━━━━━━━━━━━━━━━━━━━━━━━\u001b[0m \u001b[32m128.9/128.9 kB\u001b[0m \u001b[31m4.1 MB/s\u001b[0m eta \u001b[36m0:00:00\u001b[0m\n",
            "\u001b[?25hRequirement already satisfied: keras in /usr/local/lib/python3.10/dist-packages (from keras-tuner) (2.15.0)\n",
            "Requirement already satisfied: packaging in /usr/local/lib/python3.10/dist-packages (from keras-tuner) (23.2)\n",
            "Requirement already satisfied: requests in /usr/local/lib/python3.10/dist-packages (from keras-tuner) (2.31.0)\n",
            "Collecting kt-legacy (from keras-tuner)\n",
            "  Downloading kt_legacy-1.0.5-py3-none-any.whl (9.6 kB)\n",
            "Requirement already satisfied: charset-normalizer<4,>=2 in /usr/local/lib/python3.10/dist-packages (from requests->keras-tuner) (3.3.2)\n",
            "Requirement already satisfied: idna<4,>=2.5 in /usr/local/lib/python3.10/dist-packages (from requests->keras-tuner) (3.6)\n",
            "Requirement already satisfied: urllib3<3,>=1.21.1 in /usr/local/lib/python3.10/dist-packages (from requests->keras-tuner) (2.0.7)\n",
            "Requirement already satisfied: certifi>=2017.4.17 in /usr/local/lib/python3.10/dist-packages (from requests->keras-tuner) (2023.11.17)\n",
            "Installing collected packages: kt-legacy, keras-tuner\n",
            "Successfully installed keras-tuner-1.4.6 kt-legacy-1.0.5\n"
          ]
        }
      ]
    },
    {
      "cell_type": "code",
      "source": [
        "import keras_tuner"
      ],
      "metadata": {
        "id": "GNwU7WtNh_ZI"
      },
      "execution_count": 30,
      "outputs": []
    },
    {
      "cell_type": "code",
      "source": [
        "def build_model(hp):\n",
        "  model = keras.Sequential()\n",
        "  model.add(keras.layers.AveragePooling2D(6,3,input_shape=(300,300,1)))\n",
        "  for i in range(hp.Int(\"cov layers\",min_value=0,max_value=3)):\n",
        "     model.add(keras.layers.Conv2D(hp.Choice(\"layer{i}_filters\",[16,32,64]),3,activation='relu'))\n",
        "  model.add(keras.layers.MaxPool2D(2,2))\n",
        "\n",
        "  model.add(keras.layers.Dropout(0.5))\n",
        "  model.add(keras.layers.Flatten())\n",
        "  model.add(keras.layers.Dense(hp.Choice('Dence layer',[64,128,256,512,1024]),activation='relu'))\n",
        "  model.add(keras.layers.Dense(3,activation='softmax'))\n",
        "  model.compile(\n",
        "    optimizer='adam',\n",
        "    loss=keras.losses.SparseCategoricalCrossentropy(),\n",
        "    metrics=['accuracy'])\n",
        "  return model\n",
        "tuner = keras_tuner.RandomSearch(\n",
        "    build_model,\n",
        "    objective='val_accuracy',\n",
        "    directory='./new_dic',\n",
        "    max_trials=5)\n",
        "tuner.search(train_img,train_label,validation_data=(test_img,test_label),epochs=10,batch_size=32)"
      ],
      "metadata": {
        "colab": {
          "base_uri": "https://localhost:8080/"
        },
        "id": "Udb90y5LiGum",
        "outputId": "c61d20f6-c271-47d2-b5df-939de0ac91d3"
      },
      "execution_count": 42,
      "outputs": [
        {
          "output_type": "stream",
          "name": "stdout",
          "text": [
            "Trial 5 Complete [00h 00m 18s]\n",
            "val_accuracy: 0.7553763389587402\n",
            "\n",
            "Best val_accuracy So Far: 0.7553763389587402\n",
            "Total elapsed time: 00h 01m 17s\n"
          ]
        }
      ]
    },
    {
      "cell_type": "code",
      "source": [
        "best_model = tuner.get_best_models()[0]"
      ],
      "metadata": {
        "id": "PaoAQ4NK267X"
      },
      "execution_count": 43,
      "outputs": []
    },
    {
      "cell_type": "code",
      "source": [
        "print(best_model)"
      ],
      "metadata": {
        "colab": {
          "base_uri": "https://localhost:8080/"
        },
        "id": "dFlpU0-jpIJh",
        "outputId": "35ed5689-0cb9-4569-e0f8-0f188a20e4b4"
      },
      "execution_count": 44,
      "outputs": [
        {
          "output_type": "stream",
          "name": "stdout",
          "text": [
            "<keras.src.engine.sequential.Sequential object at 0x7bd0ada5abf0>\n"
          ]
        }
      ]
    },
    {
      "cell_type": "code",
      "source": [
        "best_model.summary"
      ],
      "metadata": {
        "id": "d2HPLQ43__6A",
        "outputId": "3311486c-8708-4958-993c-2a611308417f",
        "colab": {
          "base_uri": "https://localhost:8080/"
        }
      },
      "execution_count": 33,
      "outputs": [
        {
          "output_type": "execute_result",
          "data": {
            "text/plain": [
              "<bound method Model.summary of <keras.src.engine.sequential.Sequential object at 0x7bd154b48970>>"
            ]
          },
          "metadata": {},
          "execution_count": 33
        }
      ]
    },
    {
      "cell_type": "markdown",
      "source": [
        "#save and load our models"
      ],
      "metadata": {
        "id": "XD9ezODHpTpf"
      }
    },
    {
      "cell_type": "code",
      "source": [],
      "metadata": {
        "id": "3hCmEelupayQ"
      },
      "execution_count": null,
      "outputs": []
    },
    {
      "cell_type": "code",
      "source": [],
      "metadata": {
        "id": "GwGJT7EMmpKB"
      },
      "execution_count": null,
      "outputs": []
    }
  ],
  "metadata": {
    "colab": {
      "provenance": [],
      "gpuType": "T4",
      "authorship_tag": "ABX9TyPx70XKhMN32vVKHET4jJnU",
      "include_colab_link": true
    },
    "kernelspec": {
      "display_name": "Python 3",
      "name": "python3"
    },
    "language_info": {
      "name": "python"
    },
    "accelerator": "GPU"
  },
  "nbformat": 4,
  "nbformat_minor": 0
}